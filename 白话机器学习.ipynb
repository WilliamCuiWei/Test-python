{
 "cells": [
  {
   "cell_type": "markdown",
   "metadata": {},
   "source": [
    "# 1.分类"
   ]
  },
  {
   "cell_type": "markdown",
   "metadata": {},
   "source": [
    "## 朴素贝叶斯"
   ]
  },
  {
   "cell_type": "raw",
   "metadata": {},
   "source": [
    "1.高斯朴素贝叶斯（Gaussian Naive Bayes）利用高斯概率密度公式来进行分类拟合的\n",
    "2.多项式朴素贝叶斯（Multinomial Naive Bayes）多用于高纬度向量分类，如文章分类\n",
    "3.伯努利朴素贝叶斯（Bernoulli Naive Bayes）一般针对布尔类型特征值的向量做分类的过程"
   ]
  },
  {
   "cell_type": "code",
   "execution_count": 1,
   "metadata": {},
   "outputs": [],
   "source": [
    "from sklearn.naive_bayes import GaussianNB  "
   ]
  },
  {
   "cell_type": "code",
   "execution_count": 2,
   "metadata": {},
   "outputs": [],
   "source": [
    "#预测天气   0：晴 1：阴 2：降水 3：多云\n",
    "data_table = [[\"date\",\"weather\"],\n",
    "             [1,0],\n",
    "             [2,1],\n",
    "             [3,2],\n",
    "             [4,1],\n",
    "             [5,2],\n",
    "             [6,0],\n",
    "             [7,0],\n",
    "             [8,3],\n",
    "             [9,1],\n",
    "             [10,1]]"
   ]
  },
  {
   "cell_type": "code",
   "execution_count": 3,
   "metadata": {},
   "outputs": [],
   "source": [
    "# 当天的天气\n",
    "X = [[0],[1],[2],[1],[2],[0],[0],[3],[1]]"
   ]
  },
  {
   "cell_type": "code",
   "execution_count": 5,
   "metadata": {},
   "outputs": [],
   "source": [
    "#当天天气对应后一天的天气\n",
    "y = [1,2,1,2,0,0,3,1,1]"
   ]
  },
  {
   "cell_type": "code",
   "execution_count": 6,
   "metadata": {},
   "outputs": [],
   "source": [
    "#把训练数据和对应的分类放入分类器中进行训练\n",
    "clf = GaussianNB().fit(X,y)"
   ]
  },
  {
   "cell_type": "code",
   "execution_count": 7,
   "metadata": {},
   "outputs": [
    {
     "data": {
      "text/plain": [
       "array([2])"
      ]
     },
     "execution_count": 7,
     "metadata": {},
     "output_type": "execute_result"
    }
   ],
   "source": [
    "p = [[1]]\n",
    "clf.predict(p)"
   ]
  },
  {
   "cell_type": "code",
   "execution_count": 8,
   "metadata": {},
   "outputs": [],
   "source": [
    "#疾病预测\n",
    "#基因片段A  基因片段B 高血压胆结石\n",
    "#1：是  0：否\n",
    "data_table = [\n",
    "    [1,1,1,0],\n",
    "    [0,0,0,1],\n",
    "    [0,1,0,0],\n",
    "    [1,0,0,0],\n",
    "    [1,1,0,1],\n",
    "    [1,0,0,1],\n",
    "    [0,1,1,1],\n",
    "    [0,0,0,0],\n",
    "    [1,0,1,0],\n",
    "    [0,1,0,1]\n",
    "]"
   ]
  },
  {
   "cell_type": "code",
   "execution_count": 9,
   "metadata": {},
   "outputs": [],
   "source": [
    "#基因片段\n",
    "X=[[1,1],[0,0],[0,1],[1,0],[1,1],[1,0],[0,1],[0,0],[1,0],[0,1]]"
   ]
  },
  {
   "cell_type": "code",
   "execution_count": 10,
   "metadata": {},
   "outputs": [],
   "source": [
    "#高血压\n",
    "y1 = [1,0,0,0,0,0,1,0,1,0]"
   ]
  },
  {
   "cell_type": "code",
   "execution_count": 11,
   "metadata": {},
   "outputs": [],
   "source": [
    "#训练\n",
    "clf = GaussianNB().fit(X,y1)"
   ]
  },
  {
   "cell_type": "code",
   "execution_count": 12,
   "metadata": {},
   "outputs": [
    {
     "data": {
      "text/plain": [
       "array([0])"
      ]
     },
     "execution_count": 12,
     "metadata": {},
     "output_type": "execute_result"
    }
   ],
   "source": [
    "#预测\n",
    "p = [[1,0]]\n",
    "clf.predict(p)"
   ]
  },
  {
   "cell_type": "code",
   "execution_count": 13,
   "metadata": {},
   "outputs": [],
   "source": [
    "#胆结石\n",
    "y2 = [0,1,0,0,1,1,1,0,0,1]"
   ]
  },
  {
   "cell_type": "code",
   "execution_count": 14,
   "metadata": {},
   "outputs": [],
   "source": [
    "#训练\n",
    "clf2 = GaussianNB().fit(X,y2)"
   ]
  },
  {
   "cell_type": "code",
   "execution_count": 15,
   "metadata": {},
   "outputs": [
    {
     "data": {
      "text/plain": [
       "array([0])"
      ]
     },
     "execution_count": 15,
     "metadata": {},
     "output_type": "execute_result"
    }
   ],
   "source": [
    "#预测\n",
    "p = [[1,0]]\n",
    "clf2.predict(p)"
   ]
  },
  {
   "cell_type": "markdown",
   "metadata": {},
   "source": [
    "## 决策树"
   ]
  },
  {
   "cell_type": "markdown",
   "metadata": {},
   "source": [
    "### 信息增益  连续性变量"
   ]
  },
  {
   "cell_type": "markdown",
   "metadata": {},
   "source": [
    "#### “学历”字段分割："
   ]
  },
  {
   "cell_type": "code",
   "execution_count": 16,
   "metadata": {},
   "outputs": [],
   "source": [
    "#学历分类中大专，本科，硕士占比\n",
    "education = (2.0 / 12 , 5.0 / 12 , 5.0 / 12)\n",
    "#大专分类中相亲占比\n",
    "junior_college = (1.0 / 2, 1.0 / 2)\n",
    "#本科分类中相亲占比\n",
    "undergraduate = (3.0 / 5, 2.0 / 5)\n",
    "#硕士分类中相亲占比\n",
    "master = (4.0 / 5, 1.0 / 5)\n",
    "#学历各分类中相亲占比\n",
    "date_per = (junior_college,undergraduate,master)"
   ]
  },
  {
   "cell_type": "code",
   "execution_count": 20,
   "metadata": {},
   "outputs": [],
   "source": [
    "from math import log"
   ]
  },
  {
   "cell_type": "code",
   "execution_count": 21,
   "metadata": {},
   "outputs": [
    {
     "name": "stdout",
     "output_type": "stream",
     "text": [
      "0.8720327872258462\n"
     ]
    }
   ],
   "source": [
    "#“相亲”字段划分规则下的熵\n",
    "def info_date(p):\n",
    "    info = 0\n",
    "    for v in p:\n",
    "        info += v * log(v,2)\n",
    "    return info\n",
    "\n",
    "#“学历”字段划分规则下的熵\n",
    "def infoA():\n",
    "    info = 0\n",
    "    for i in range(len(education)):\n",
    "        info += -education[i] * info_date(date_per[i])\n",
    "    return info\n",
    "print (infoA())"
   ]
  },
  {
   "cell_type": "markdown",
   "metadata": {},
   "source": [
    "#### “年龄”字段分割："
   ]
  },
  {
   "cell_type": "code",
   "execution_count": 22,
   "metadata": {},
   "outputs": [],
   "source": [
    "#年龄\n",
    "age = [25,25,28,28,29,30,33,34,35,36,40,46]\n",
    "#是否相亲 1：是   0：否\n",
    "date = [0,1,1,0,1,1,1,1,1,0,0,0]"
   ]
  },
  {
   "cell_type": "code",
   "execution_count": 23,
   "metadata": {},
   "outputs": [],
   "source": [
    "#从年龄28,29中间分开\n",
    "#左右分类中的数量占总数的百分比\n",
    "split_per = (4.0 / 12 ,8.0 / 12)\n",
    "#左边分类中相亲占比\n",
    "date_left = (1.0 / 2 , 1.0 / 2)\n",
    "#右边分类中相亲占比\n",
    "date_right = (5.0 / 8 , 3.0 / 8)\n",
    "#左右各分类中相亲占比\n",
    "date_per = (date_left, date_right)"
   ]
  },
  {
   "cell_type": "code",
   "execution_count": 25,
   "metadata": {},
   "outputs": [],
   "source": [
    "#\"相亲\"字段划分规则下的熵\n",
    "def info_date(p):\n",
    "    info = 0\n",
    "    for v in p:\n",
    "        info += v *log(v,2)\n",
    "    return info "
   ]
  },
  {
   "cell_type": "code",
   "execution_count": 26,
   "metadata": {},
   "outputs": [
    {
     "name": "stdout",
     "output_type": "stream",
     "text": [
      "0.9696226686166431\n"
     ]
    }
   ],
   "source": [
    "#右边分类规则下的熵\n",
    "def infoA():\n",
    "    info = 0\n",
    "    for i in range(len(split_per)):\n",
    "        info += -split_per[i] * info_date(date_per[i])\n",
    "    return info\n",
    "print (infoA())"
   ]
  },
  {
   "cell_type": "markdown",
   "metadata": {},
   "source": [
    "### 随机森林"
   ]
  },
  {
   "cell_type": "code",
   "execution_count": 1,
   "metadata": {},
   "outputs": [],
   "source": [
    "from sklearn.ensemble import RandomForestClassifier"
   ]
  },
  {
   "cell_type": "code",
   "execution_count": 2,
   "metadata": {},
   "outputs": [],
   "source": [
    "#学历 0：大专  2：硕士  1：本科\n",
    "#‘年龄’ '身高'‘年收入’‘学历’\n",
    "X = [\n",
    "    [25,179,15,0],\n",
    "    [33,190,19,0],\n",
    "    [28,180,18,2],\n",
    "    [25,178,18,2],\n",
    "    [46,100,100,2],\n",
    "    [40,170,170,1],\n",
    "    [34,174,20,2],\n",
    "    [36,181,55,1],\n",
    "    [35,170,25,3],\n",
    "    [30,180,35,1],\n",
    "    [28,174,30,1],\n",
    "    [29,176,36,1]    \n",
    "]"
   ]
  },
  {
   "cell_type": "code",
   "execution_count": 3,
   "metadata": {},
   "outputs": [],
   "source": [
    "#是否有相亲  0：N  1：Y\n",
    "y = [0,1,1,1,0,0,1,0,1,1,0,1]"
   ]
  },
  {
   "cell_type": "code",
   "execution_count": 4,
   "metadata": {},
   "outputs": [
    {
     "name": "stderr",
     "output_type": "stream",
     "text": [
      "d:\\python3.5\\lib\\site-packages\\sklearn\\ensemble\\forest.py:246: FutureWarning: The default value of n_estimators will change from 10 in version 0.20 to 100 in 0.22.\n",
      "  \"10 in version 0.20 to 100 in 0.22.\", FutureWarning)\n"
     ]
    }
   ],
   "source": [
    "#现在把训练数据和对应的分类放入分类器中进行训练\n",
    "clf = RandomForestClassifier().fit(X,y)"
   ]
  },
  {
   "cell_type": "code",
   "execution_count": 5,
   "metadata": {},
   "outputs": [
    {
     "data": {
      "text/plain": [
       "array([1])"
      ]
     },
     "execution_count": 5,
     "metadata": {},
     "output_type": "execute_result"
    }
   ],
   "source": [
    "#预测下面此人是否相亲\n",
    "p = [[28,180,18,2]]\n",
    "clf.predict(p)"
   ]
  },
  {
   "cell_type": "markdown",
   "metadata": {},
   "source": [
    "### 隐马尔科夫模型"
   ]
  },
  {
   "cell_type": "markdown",
   "metadata": {},
   "source": [
    "马尔科夫链：在给定当前知识或信息的情况下，观察对象过去的历史状态对于预测将来是无关的。\n",
    "下一个状态（第n+1个状态）如何的概率只需要观察和统计当前状态（第n个状态）即可正确得出"
   ]
  },
  {
   "cell_type": "markdown",
   "metadata": {},
   "source": [
    "隐马尔科夫链是贝叶斯信念网络的一种特例，是一个双重的随机过程。不仅状态转移是一个随机事件，状态和输出之间也是一个随机过程。   可见状态链   隐含状态链   输出概率"
   ]
  },
  {
   "cell_type": "markdown",
   "metadata": {},
   "source": [
    "【问题1】：知道骰子有几种（隐含状态数量）、每种骰子是什么（转换概率）、根据掷骰子掷出的结果（可见状态链），想知道每次掷出来的都是哪种骰子（隐含状态链）。  解码问题 1.求最大似然状态路径，求一串骰子序列，产生观测结果的概率最大；2.求每次掷出的骰子分别是某种骰子的概率\n",
    "\n",
    "【问题2】：知道骰子有几种（隐含状态数量）、每种骰子是什么（转换概率）、根据掷骰子掷出的结果（可见状态链），想知道掷出这个结果的概率。\n",
    "\n",
    "【问题3】：知道骰子有几种（隐含状态数量）、不知道每种骰子是什么（转换概率），观测到很多次掷骰子的结果（可见状态链），想反推出每种每种骰子是什么（转换概率）"
   ]
  },
  {
   "cell_type": "markdown",
   "metadata": {},
   "source": [
    "#### 维特比算法"
   ]
  },
  {
   "cell_type": "markdown",
   "metadata": {},
   "source": [
    "找出可能性最大的隐藏序列     CDMA协议"
   ]
  },
  {
   "cell_type": "code",
   "execution_count": 7,
   "metadata": {},
   "outputs": [],
   "source": [
    "#coding = utf-8\n",
    "import numpy as np"
   ]
  },
  {
   "cell_type": "code",
   "execution_count": 132,
   "metadata": {},
   "outputs": [],
   "source": [
    "jin = ['近','斤','今','金','尽']\n",
    "jin_per = [0.3, 0.2, 0.1, 0.06, 0.03]\n",
    "\n",
    "jintian = ['天','填','田','甜','添']\n",
    "jintian_per = [\n",
    "    [0.001,0.001,0.001,0.001,0.001,],\n",
    "    [0.001,0.001,0.001,0.001,0.001,],\n",
    "    [0.990,0.001,0.001,0.001,0.001,],\n",
    "    [0.002,0.001,0.850,0.001,0.001,],\n",
    "    [0.001,0.001,0.001,0.001,0.001,]\n",
    "]\n",
    "\n",
    "wo = ['我','窝','喔','握','卧']\n",
    "wo_per = [0.400, 0.150, 0.090, 0.050, 0.030]\n",
    "\n",
    "women = ['们','门','闷','焖','扪']\n",
    "women_per = [\n",
    "    [0.970,0.001,0.003,0.001,0.001,],\n",
    "    [0.001,0.001,0.001,0.001,0.001,],\n",
    "    [0.001,0.001,0.001,0.001,0.001,],\n",
    "    [0.002,0.001,0.001,0.001,0.001,],\n",
    "    [0.001,0.001,0.001,0.001,0.001,]\n",
    "]\n",
    "N = 5"
   ]
  },
  {
   "cell_type": "code",
   "execution_count": 133,
   "metadata": {},
   "outputs": [],
   "source": [
    "def found_from_oneword(oneword_per):\n",
    "    index = []\n",
    "    values = []\n",
    "    a = np.array(oneword_per)\n",
    "    for v in np.argsort(a)[::-1][:N]:\n",
    "        index.append(v)\n",
    "        values.append(oneword_per[v])\n",
    "    return index , values"
   ]
  },
  {
   "cell_type": "code",
   "execution_count": 134,
   "metadata": {},
   "outputs": [],
   "source": [
    "def found_from_twoword(oneword_per,twoword_per):\n",
    "    last = 0\n",
    "    for i in range(len(jin_per)):\n",
    "        current = np.multiply(oneword_per[i],twoword_per[i])\n",
    "        if i == 0:\n",
    "            last = current\n",
    "        else:\n",
    "            last = np.concatenate((last,current),axis=0)\n",
    "    index = []\n",
    "    values = []\n",
    "    for v in np.argsort(last)[::-1][:N]:\n",
    "        index.append([v // 5 , v % 5])\n",
    "        values.append(last[v])\n",
    "    return index, values"
   ]
  },
  {
   "cell_type": "code",
   "execution_count": 135,
   "metadata": {},
   "outputs": [],
   "source": [
    "def predict(word):\n",
    "    if word == 'jin':\n",
    "        for i in found_from_oneword(jin_per)[0]:\n",
    "            print (jin[i])\n",
    "    elif word == 'jintian':\n",
    "        for i in found_from_twoword(jin_per, jintian_per)[0]:\n",
    "            print (jin[i[0]] + jintian[i[1]])\n",
    "    elif word == 'wo':\n",
    "        for i in found_from_oneword(wo_per)[0]:\n",
    "            print(wo[i])\n",
    "    elif word == 'women':\n",
    "        for i in found_from_twoword(wo_per, women_per)[0]:\n",
    "            print(wo[i[0]] + women[i[1]])\n",
    "    elif word == 'jintianwo':\n",
    "        index1, values1 = found_from_oneword(wo_per)\n",
    "        index2, values2 = found_from_twoword(jin_per, jintian_per)\n",
    "        last = np.multiply(values1, values1)\n",
    "        for i in np.argsort(last)[::-1][:N]:\n",
    "            print(jin[index2[i][0]], jintian[index2[i][1]], wo[i])\n",
    "    elif word == 'jintianwomen':\n",
    "        index1, values1 = found_from_twoword(jin_per, jintian_per)\n",
    "        index2, values2 = found_from_twoword(wo_per, women_per)\n",
    "        last = np.multiply(values1, values1)\n",
    "        for i in np.argsort(last)[::-1][:N]:\n",
    "            print(jin[index1[i][0]], jintian[index1[i][1]], wo[index2[i][0]],women[index2[i][0]])\n",
    "    else:\n",
    "        pass"
   ]
  },
  {
   "cell_type": "code",
   "execution_count": 136,
   "metadata": {},
   "outputs": [
    {
     "name": "stdout",
     "output_type": "stream",
     "text": [
      "今天\n",
      "金田\n",
      "近天\n",
      "近填\n",
      "近田\n"
     ]
    }
   ],
   "source": [
    "predict('jintian')"
   ]
  },
  {
   "cell_type": "code",
   "execution_count": 137,
   "metadata": {},
   "outputs": [],
   "source": [
    "if __name__ == '__mian__':\n",
    "    predict('jin')\n",
    "    #近\n",
    "    #斤\n",
    "    #今\n",
    "    #金\n",
    "    #尽\n",
    "    predict('jintian')\n",
    "    #今天\n",
    "    #金田\n",
    "    #近天\n",
    "    #近填\n",
    "    #近田\n",
    "    predict('two')\n",
    "    #近\n",
    "    #斤\n",
    "    #今\n",
    "    #金\n",
    "    #尽\n",
    "    predict('women')\n",
    "    #我们\n",
    "    #我闷\n",
    "    #我门\n",
    "    #我焖\n",
    "    #我扪\n",
    "    predict('jintianwo')\n",
    "    #今天我\n",
    "    #金田窝\n",
    "    #近天喔\n",
    "    #近填握\n",
    "    #近田卧\n",
    "    predict('jintianwomen')\n",
    "    #今天我们\n",
    "    #金田我闷\n",
    "    #近田我扪\n",
    "    #近填我焖\n",
    "    #近天我门"
   ]
  },
  {
   "cell_type": "code",
   "execution_count": 138,
   "metadata": {},
   "outputs": [
    {
     "name": "stdout",
     "output_type": "stream",
     "text": [
      "我们\n",
      "我闷\n",
      "我门\n",
      "我焖\n",
      "我扪\n"
     ]
    }
   ],
   "source": [
    "predict('women')"
   ]
  },
  {
   "cell_type": "code",
   "execution_count": 139,
   "metadata": {},
   "outputs": [
    {
     "name": "stdout",
     "output_type": "stream",
     "text": [
      "今 天 我 们\n",
      "金 田 我 们\n",
      "近 田 我 们\n",
      "近 填 我 们\n",
      "近 天 我 们\n"
     ]
    }
   ],
   "source": [
    "predict('jintianwomen')"
   ]
  },
  {
   "cell_type": "markdown",
   "metadata": {},
   "source": [
    "#### 前向算法"
   ]
  },
  {
   "cell_type": "markdown",
   "metadata": {},
   "source": [
    "解决问题2"
   ]
  },
  {
   "cell_type": "markdown",
   "metadata": {},
   "source": [
    "### 支持向量机SVM"
   ]
  },
  {
   "cell_type": "markdown",
   "metadata": {},
   "source": [
    "Support Vector Machine 可以用来做模式识别、分类或者回归的机器学习。\n",
    "关键点1：“超平面”是一个抽象概念 \n",
    "关键点2：过拟问题\n",
    "关键点3：不纯度问题"
   ]
  },
  {
   "cell_type": "markdown",
   "metadata": {},
   "source": [
    "核函数（Kernel）构造  线性核函数、多项式核函数、径向基核函数（RBF核函数）、高斯核函数。\n",
    "核函数目的，只有在当前维度空间的样本是线性不可分的，就一律映射到更高的维度上去，在更高的维度上找到超平面，得到超平面方程。"
   ]
  },
  {
   "cell_type": "markdown",
   "metadata": {},
   "source": [
    "sklearn库中，SVC所支持的函数包括Linear（线性核函数）、poly（多项式核函数）、rbf（径向基核函数）、sigmoid（神经元激活核函数）、precomputed（自定义核函数），默认使用rbf核函数"
   ]
  },
  {
   "cell_type": "code",
   "execution_count": 11,
   "metadata": {},
   "outputs": [
    {
     "name": "stderr",
     "output_type": "stream",
     "text": [
      "d:\\python3.5\\lib\\site-packages\\sklearn\\svm\\base.py:196: FutureWarning: The default value of gamma will change from 'auto' to 'scale' in version 0.22 to account better for unscaled features. Set gamma explicitly to 'auto' or 'scale' to avoid this warning.\n",
      "  \"avoid this warning.\", FutureWarning)\n"
     ]
    }
   ],
   "source": [
    "from sklearn import svm\n",
    "#年龄\n",
    "X = [[34],[33],[32],[31],[30],[30],[25],[23],[22],[18]]\n",
    "#质量\n",
    "y = [1,0,1,0,1,1,0,1,0,1]\n",
    "#现在把训练数据和对应的分类放入分类器中进行训练\n",
    "#这里使用rbf\n",
    "clf = svm.SVC(kernel = 'rbf').fit(X,y)"
   ]
  },
  {
   "cell_type": "code",
   "execution_count": 23,
   "metadata": {},
   "outputs": [
    {
     "name": "stdout",
     "output_type": "stream",
     "text": [
      "[1]\n"
     ]
    }
   ],
   "source": [
    "#预测年龄30的人的质量\n",
    "p = [[33]]\n",
    "print(clf.predict(p))"
   ]
  },
  {
   "cell_type": "code",
   "execution_count": 7,
   "metadata": {},
   "outputs": [
    {
     "data": {
      "text/plain": [
       "array([1])"
      ]
     },
     "execution_count": 7,
     "metadata": {},
     "output_type": "execute_result"
    }
   ],
   "source": [
    "clf1 = svm.SVC(kernel = 'linear').fit(X,y)\n",
    "p = [[7]]\n",
    "clf1.predict(p)"
   ]
  },
  {
   "cell_type": "markdown",
   "metadata": {},
   "source": [
    "### 遗传算法"
   ]
  },
  {
   "cell_type": "markdown",
   "metadata": {},
   "source": [
    "应用：TSP问题（旅行商问题）、九宫问题（八数码问题）、生产调度问题、背包问题（NP问题）\n",
    "步骤：1.基因编码   2.设计初始群体  3.适应度计算（剪枝） 4.产生下一代"
   ]
  },
  {
   "cell_type": "code",
   "execution_count": 10,
   "metadata": {},
   "outputs": [],
   "source": [
    "#coding=utf-8\n",
    "import random\n",
    "#背包问题\n",
    "#物品重量价格\n",
    "X = {\n",
    "    1:[10,15],\n",
    "    2:[15,25],\n",
    "    3:[20,35],\n",
    "    4:[25,45],\n",
    "    5:[30,55],\n",
    "    6:[35,70]\n",
    "}\n",
    "#终止界限\n",
    "FINISHED_LIMIT = 5\n",
    "#重量界限\n",
    "WEIGHT_LIMIT = 80\n",
    "#染色体长度\n",
    "CHROMOSOME_SIZE = 6\n",
    "#遴选次数\n",
    "SELECT_NUMBER = 4\n",
    "\n",
    "max_last = 0\n",
    "diff_last = 10000\n",
    "\n",
    "#收敛条件、判断退出\n",
    "def is_finished(fitnesses):\n",
    "    global max_last\n",
    "    global diff_last\n",
    "    \n",
    "    max_current = 0\n",
    "    for v in fitnesses:\n",
    "        if v[1] > max_current:\n",
    "            max_current = v[1]\n",
    "        diff = max_current - max_last\n",
    "        if diff < FINISHED_LIMIT and diff_last < FINISHED_LIMIT:\n",
    "            return True\n",
    "        else:\n",
    "            diff_last = diff\n",
    "            max_last = max_current\n",
    "            return False\n",
    "#初始染色体状态\n",
    "def init():\n",
    "    chromosome_state1 = '100100'\n",
    "    chromosome_state2 = '101010'    \n",
    "    chromosome_state3 = '010101'    \n",
    "    chromosome_state4 = '101011'    \n",
    "    chromosome_states = [chromosome_state1,\n",
    "                       chromosome_state2 ,\n",
    "                       chromosome_state3,\n",
    "                       chromosome_state4]  \n",
    "    return chromosome_states\n",
    "#计算适应度\n",
    "def fitness(chromosome_states):\n",
    "    fitnesses = []\n",
    "    for chromosome_state in chromosome_states:\n",
    "        value_sum = 0\n",
    "        weight_sum = 0\n",
    "        for i,v in enumerate(chromosome_state):\n",
    "            if int(v) == 1:\n",
    "                weight_sum += X[i+1][0]\n",
    "                value_sum += X[i+1][1]\n",
    "        fitnesses.append([value_sum,weight_sum])\n",
    "    return fitnesses\n",
    "#筛选\n",
    "def filter(chromosome_states, fitnesses):\n",
    "    #重量大于80的被淘汰\n",
    "    index = len(fitnesses) - 1\n",
    "    while index >= 0:\n",
    "        index -= 1\n",
    "        if fitnesses[index][1] > WEIGHT_LIMIT:\n",
    "            chromosome_states.pop(index)\n",
    "            fitnesses.pop(index)\n",
    "    #遴选\n",
    "    selected_index = [0] * len(chromosome_states)\n",
    "    for i in range(SELECT_NUMBER):\n",
    "        j = chromosome_states.index(random.choice(chromosome_states))\n",
    "        selected_index[j] += 1\n",
    "    return selected_index\n",
    "#产生下一代\n",
    "def crossover(chromosome_states,selected_index):\n",
    "    chromosome_states_new = []\n",
    "    index = len(chromosome_states) - 1\n",
    "    while index >= 0:\n",
    "        index -= 1\n",
    "        chromosome_state = chromosome_states.pop(index)\n",
    "        for i in range(selected_index[index]):\n",
    "            chromosome_state_x = random.choice(chromosome_states)\n",
    "            pos = random.choice(range(1,CHROMOSOME_SIZE -1))\n",
    "            chromosome_states_new.append(chromosome_state[:pos] + chromosome_state_x[pos:])\n",
    "            chromosome_states.insert(index, chromosome_state)\n",
    "    return chromosome_states_new"
   ]
  },
  {
   "cell_type": "code",
   "execution_count": 11,
   "metadata": {},
   "outputs": [],
   "source": [
    "if __name__ == '__main__':\n",
    "    #初始群体\n",
    "    chromosome_states = init()\n",
    "    n = 100\n",
    "    while n > 0:\n",
    "        n -= 1\n",
    "        #适应度计算\n",
    "        fitnesses = fitness(chromosome_states)\n",
    "        if is_finished(fitnesses):\n",
    "            break\n",
    "        #遴选\n",
    "        selected_index = filter(chromosome_states,fitnesses)\n",
    "        #产生下一代\n",
    "        chromosome_states = crossover(chromosome_states,selected_index)"
   ]
  },
  {
   "cell_type": "code",
   "execution_count": 12,
   "metadata": {},
   "outputs": [
    {
     "data": {
      "text/plain": [
       "['010101', '010010', '010010', '010010']"
      ]
     },
     "execution_count": 12,
     "metadata": {},
     "output_type": "execute_result"
    }
   ],
   "source": [
    " chromosome_states"
   ]
  },
  {
   "cell_type": "code",
   "execution_count": null,
   "metadata": {},
   "outputs": [],
   "source": []
  }
 ],
 "metadata": {
  "kernelspec": {
   "display_name": "Python 3",
   "language": "python",
   "name": "python3"
  },
  "language_info": {
   "codemirror_mode": {
    "name": "ipython",
    "version": 3
   },
   "file_extension": ".py",
   "mimetype": "text/x-python",
   "name": "python",
   "nbconvert_exporter": "python",
   "pygments_lexer": "ipython3",
   "version": "3.6.5"
  }
 },
 "nbformat": 4,
 "nbformat_minor": 2
}
